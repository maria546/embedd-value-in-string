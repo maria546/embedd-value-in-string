{
 "cells": [
  {
   "cell_type": "code",
   "execution_count": 1,
   "metadata": {},
   "outputs": [
    {
     "name": "stdout",
     "output_type": "stream",
     "text": [
      "XYZ 613 Isb\n"
     ]
    }
   ],
   "source": [
    "        # Embeded value in string\n",
    "num = 613\n",
    "message = '''XYZ %s Isb'''\n",
    "print(message % num)"
   ]
  },
  {
   "cell_type": "code",
   "execution_count": 2,
   "metadata": {},
   "outputs": [
    {
     "name": "stdout",
     "output_type": "stream",
     "text": [
      "What did the number 0 say to the number 8? Nice belt!!\n"
     ]
    }
   ],
   "source": [
    "nums = 0,8\n",
    "print( 'What did the number %s say to the number %s? Nice belt!!' %nums)\n",
    "\n",
    "\n"
   ]
  },
  {
   "cell_type": "code",
   "execution_count": 3,
   "metadata": {},
   "outputs": [
    {
     "name": "stdout",
     "output_type": "stream",
     "text": [
      "what is the number 0 to the number 8?\n"
     ]
    }
   ],
   "source": [
    "num = 0,8\n",
    "mes = \"what is the number %s to the number %s?\"\n",
    "print(mes %num)"
   ]
  },
  {
   "cell_type": "code",
   "execution_count": 7,
   "metadata": {
    "scrolled": true
   },
   "outputs": [
    {
     "name": "stdout",
     "output_type": "stream",
     "text": [
      "I score 1000 points\n"
     ]
    }
   ],
   "source": [
    "         # combining digit & string\n",
    "myscore = 1000\n",
    "message = 'I score %s points'\n",
    "print(message % myscore)"
   ]
  },
  {
   "cell_type": "code",
   "execution_count": null,
   "metadata": {},
   "outputs": [],
   "source": []
  }
 ],
 "metadata": {
  "kernelspec": {
   "display_name": "Python 3",
   "language": "python",
   "name": "python3"
  },
  "language_info": {
   "codemirror_mode": {
    "name": "ipython",
    "version": 3
   },
   "file_extension": ".py",
   "mimetype": "text/x-python",
   "name": "python",
   "nbconvert_exporter": "python",
   "pygments_lexer": "ipython3",
   "version": "3.7.4"
  }
 },
 "nbformat": 4,
 "nbformat_minor": 2
}
